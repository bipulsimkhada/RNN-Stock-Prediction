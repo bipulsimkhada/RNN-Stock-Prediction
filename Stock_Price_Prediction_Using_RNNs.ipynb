{
  "cells": [
    {
      "cell_type": "markdown",
      "metadata": {
        "id": "view-in-github",
        "colab_type": "text"
      },
      "source": [
        "<a href=\"https://colab.research.google.com/github/bipulsimkhada/RNN-Stock-Prediction/blob/main/Stock_Price_Prediction_Using_RNNs.ipynb\" target=\"_parent\"><img src=\"https://colab.research.google.com/assets/colab-badge.svg\" alt=\"Open In Colab\"/></a>"
      ]
    },
    {
      "cell_type": "markdown",
      "metadata": {
        "id": "xpAuMVCwfWs8"
      },
      "source": [
        "## Recurrent Neural Network\n",
        "\n",
        "To predict Google stock for 20 days of Jan 2017 using stock dataset from Jan 2012 to Dec 2016.  Using Long short-term memory networks (LSTM) which is subset of RNN"
      ]
    },
    {
      "cell_type": "markdown",
      "metadata": {
        "id": "nxJfRe4bfYVA"
      },
      "source": [
        "## Part 1 - Data Preprocessing\n",
        "To predict Google stock price for 20 days of Jan 2017 using dataset of stock price from Jan 2012-Dec 2016 using Long Short-Term Memory networks (LSTM) - varient of Recurrent Neural Networks (RNN)"
      ]
    },
    {
      "cell_type": "markdown",
      "metadata": {
        "id": "ir9zwETrfbrp"
      },
      "source": [
        "### Importing the libraries"
      ]
    },
    {
      "cell_type": "code",
      "execution_count": null,
      "metadata": {
        "id": "ZT1f24vHffuf"
      },
      "outputs": [],
      "source": [
        "import numpy as np\n",
        "import matplotlib.pyplot as plt\n",
        "import pandas as pd"
      ]
    },
    {
      "cell_type": "markdown",
      "metadata": {
        "id": "nQ47JAxrgmaL"
      },
      "source": [
        "### Importing the training set"
      ]
    },
    {
      "cell_type": "code",
      "execution_count": null,
      "metadata": {
        "id": "1xiv3pJOgqY3"
      },
      "outputs": [],
      "source": [
        "dataset_train = pd.read_csv('Google_Stock_Price_Train.csv')\n",
        "training_set = dataset_train.iloc[:,1:2].values"
      ]
    },
    {
      "cell_type": "markdown",
      "metadata": {
        "id": "HT8_2UJegtG5"
      },
      "source": [
        "### Feature Scaling"
      ]
    },
    {
      "cell_type": "code",
      "execution_count": null,
      "metadata": {
        "id": "OTrF2kR7gx9x"
      },
      "outputs": [],
      "source": [
        "from sklearn.preprocessing import MinMaxScaler\n",
        "sc = MinMaxScaler(feature_range = (0,1))\n",
        "training_set_scaled = sc.fit_transform(training_set)\n"
      ]
    },
    {
      "cell_type": "markdown",
      "metadata": {
        "id": "JyYgYocqhNUg"
      },
      "source": [
        "### Creating a data structure with 60 timesteps and 1 output"
      ]
    },
    {
      "cell_type": "code",
      "execution_count": null,
      "metadata": {
        "id": "iofU21B0i6ST"
      },
      "outputs": [],
      "source": [
        "X_train = []\n",
        "y_train =[]\n",
        "total_data = training_set_scaled.shape[0]\n",
        "days = 60 # 60 days of data used to predit 60 plus 1 day stock price\n",
        "for i in range(60, 1258):\n",
        "  X_train.append(training_set_scaled[i-60:i,0])\n",
        "  y_train.append(training_set_scaled[i,0])\n",
        "X_train, y_train = np.array(X_train), np.array(y_train)"
      ]
    },
    {
      "cell_type": "code",
      "execution_count": null,
      "metadata": {
        "colab": {
          "base_uri": "https://localhost:8080/"
        },
        "id": "hViyI-plJGKS",
        "outputId": "fbca2767-d6f7-4d39-9f62-5cfb158bd85f"
      },
      "outputs": [
        {
          "output_type": "execute_result",
          "data": {
            "text/plain": [
              "(1198, 60)"
            ]
          },
          "metadata": {},
          "execution_count": 5
        }
      ],
      "source": [
        "X_train.shape"
      ]
    },
    {
      "cell_type": "code",
      "execution_count": null,
      "metadata": {
        "colab": {
          "base_uri": "https://localhost:8080/"
        },
        "id": "mMzTifYmJGET",
        "outputId": "94c7a4d6-6c66-4f85-ae26-7d5cd424a777"
      },
      "outputs": [
        {
          "output_type": "execute_result",
          "data": {
            "text/plain": [
              "(1198,)"
            ]
          },
          "metadata": {},
          "execution_count": 6
        }
      ],
      "source": [
        "y_train.shape"
      ]
    },
    {
      "cell_type": "markdown",
      "metadata": {
        "id": "D8yaN7Zvi95l"
      },
      "source": [
        "### Reshaping"
      ]
    },
    {
      "cell_type": "code",
      "execution_count": null,
      "metadata": {
        "id": "FOXqJHmNjBkz"
      },
      "outputs": [],
      "source": [
        "X_train = np.reshape(X_train,(X_train.shape[0],X_train.shape[1],1))"
      ]
    },
    {
      "cell_type": "markdown",
      "metadata": {
        "id": "ZRRSOJeVjEWV"
      },
      "source": [
        "## Part 2 - Building and Training the RNN"
      ]
    },
    {
      "cell_type": "markdown",
      "metadata": {
        "id": "k4XV88JMjHXG"
      },
      "source": [
        "### Importing the Keras libraries and packages"
      ]
    },
    {
      "cell_type": "code",
      "execution_count": null,
      "metadata": {
        "id": "9JRnqsxEjKsD"
      },
      "outputs": [],
      "source": [
        "from keras.models import Sequential\n",
        "from keras.layers import Dense\n",
        "from keras.layers import LSTM\n",
        "from keras.layers import Dropout"
      ]
    },
    {
      "cell_type": "markdown",
      "metadata": {
        "id": "FEIE-1s9jNzC"
      },
      "source": [
        "### Initialising the RNN"
      ]
    },
    {
      "cell_type": "code",
      "execution_count": null,
      "metadata": {
        "id": "1338dJ0UjRKH"
      },
      "outputs": [],
      "source": [
        "regressor = Sequential()"
      ]
    },
    {
      "cell_type": "markdown",
      "metadata": {
        "id": "62eg1OPGjT8z"
      },
      "source": [
        "### Adding the first LSTM layer and some Dropout regularisation"
      ]
    },
    {
      "cell_type": "code",
      "execution_count": null,
      "metadata": {
        "id": "2hIinyXUjbVU"
      },
      "outputs": [],
      "source": [
        "regressor.add(LSTM(units = 50, return_sequences=True, input_shape = (X_train.shape[1],1)))\n",
        "regressor.add(Dropout(0.2))"
      ]
    },
    {
      "cell_type": "markdown",
      "metadata": {
        "id": "3XBIYLyOjlMx"
      },
      "source": [
        "### Adding a second LSTM layer and some Dropout regularisation"
      ]
    },
    {
      "cell_type": "code",
      "execution_count": null,
      "metadata": {
        "id": "UG7nrVaSjuZ2"
      },
      "outputs": [],
      "source": [
        "regressor.add(LSTM(units = 50, return_sequences=True))\n",
        "regressor.add(Dropout(0.2))"
      ]
    },
    {
      "cell_type": "markdown",
      "metadata": {
        "id": "Ey3fHVnGj1cu"
      },
      "source": [
        "### Adding a third LSTM layer and some Dropout regularisation"
      ]
    },
    {
      "cell_type": "code",
      "execution_count": null,
      "metadata": {
        "id": "PuNi6PgFj7jO"
      },
      "outputs": [],
      "source": [
        "regressor.add(LSTM(units = 50, return_sequences=True))\n",
        "regressor.add(Dropout(0.2))"
      ]
    },
    {
      "cell_type": "markdown",
      "metadata": {
        "id": "SYTrtfTmj933"
      },
      "source": [
        "### Adding a fourth LSTM layer and some Dropout regularisation"
      ]
    },
    {
      "cell_type": "code",
      "execution_count": null,
      "metadata": {
        "id": "Jp4Ty8fRkBYV"
      },
      "outputs": [],
      "source": [
        "regressor.add(LSTM(units = 50))\n",
        "regressor.add(Dropout(0.2))"
      ]
    },
    {
      "cell_type": "markdown",
      "metadata": {
        "id": "9ABI6rOIkHhk"
      },
      "source": [
        "### Adding the output layer"
      ]
    },
    {
      "cell_type": "code",
      "execution_count": null,
      "metadata": {
        "id": "aM6R1z4WkME8"
      },
      "outputs": [],
      "source": [
        "regressor.add(Dense(units = 1))"
      ]
    },
    {
      "cell_type": "markdown",
      "metadata": {
        "id": "zLx4K7uUkPSh"
      },
      "source": [
        "### Compiling the RNN"
      ]
    },
    {
      "cell_type": "code",
      "execution_count": null,
      "metadata": {
        "id": "XTrhVN-tkbko"
      },
      "outputs": [],
      "source": [
        "regressor.compile(optimizer='adam', loss = 'mean_squared_error')"
      ]
    },
    {
      "cell_type": "markdown",
      "metadata": {
        "id": "-mPhwKGkkebi"
      },
      "source": [
        "### Fitting the RNN to the Training set"
      ]
    },
    {
      "cell_type": "code",
      "execution_count": null,
      "metadata": {
        "colab": {
          "base_uri": "https://localhost:8080/"
        },
        "id": "I06Nkrz5kkb-",
        "outputId": "2134d864-d9f7-4806-8021-999c4efa2d15"
      },
      "outputs": [
        {
          "output_type": "stream",
          "name": "stdout",
          "text": [
            "Epoch 1/100\n",
            "38/38 [==============================] - 14s 136ms/step - loss: 0.0545\n",
            "Epoch 2/100\n",
            "38/38 [==============================] - 6s 164ms/step - loss: 0.0063\n",
            "Epoch 3/100\n",
            "38/38 [==============================] - 5s 131ms/step - loss: 0.0059\n",
            "Epoch 4/100\n",
            "38/38 [==============================] - 6s 167ms/step - loss: 0.0049\n",
            "Epoch 5/100\n",
            "38/38 [==============================] - 5s 138ms/step - loss: 0.0052\n",
            "Epoch 6/100\n",
            "38/38 [==============================] - 7s 182ms/step - loss: 0.0051\n",
            "Epoch 7/100\n",
            "38/38 [==============================] - 5s 132ms/step - loss: 0.0053\n",
            "Epoch 8/100\n",
            "38/38 [==============================] - 7s 195ms/step - loss: 0.0048\n",
            "Epoch 9/100\n",
            "38/38 [==============================] - 6s 151ms/step - loss: 0.0046\n",
            "Epoch 10/100\n",
            "38/38 [==============================] - 6s 150ms/step - loss: 0.0045\n",
            "Epoch 11/100\n",
            "38/38 [==============================] - 6s 153ms/step - loss: 0.0044\n",
            "Epoch 12/100\n",
            "38/38 [==============================] - 5s 132ms/step - loss: 0.0041\n",
            "Epoch 13/100\n",
            "38/38 [==============================] - 6s 171ms/step - loss: 0.0039\n",
            "Epoch 14/100\n",
            "38/38 [==============================] - 5s 135ms/step - loss: 0.0042\n",
            "Epoch 15/100\n",
            "38/38 [==============================] - 6s 168ms/step - loss: 0.0047\n",
            "Epoch 16/100\n",
            "38/38 [==============================] - 5s 133ms/step - loss: 0.0041\n",
            "Epoch 17/100\n",
            "38/38 [==============================] - 6s 158ms/step - loss: 0.0034\n",
            "Epoch 18/100\n",
            "38/38 [==============================] - 5s 137ms/step - loss: 0.0039\n",
            "Epoch 19/100\n",
            "38/38 [==============================] - 5s 139ms/step - loss: 0.0040\n",
            "Epoch 20/100\n",
            "38/38 [==============================] - 6s 167ms/step - loss: 0.0035\n",
            "Epoch 21/100\n",
            "38/38 [==============================] - 5s 137ms/step - loss: 0.0034\n",
            "Epoch 22/100\n",
            "38/38 [==============================] - 6s 170ms/step - loss: 0.0034\n",
            "Epoch 23/100\n",
            "38/38 [==============================] - 5s 139ms/step - loss: 0.0033\n",
            "Epoch 24/100\n",
            "38/38 [==============================] - 6s 171ms/step - loss: 0.0036\n",
            "Epoch 25/100\n",
            "38/38 [==============================] - 5s 139ms/step - loss: 0.0033\n",
            "Epoch 26/100\n",
            "38/38 [==============================] - 6s 158ms/step - loss: 0.0029\n",
            "Epoch 27/100\n",
            "38/38 [==============================] - 5s 141ms/step - loss: 0.0034\n",
            "Epoch 28/100\n",
            "38/38 [==============================] - 5s 132ms/step - loss: 0.0032\n",
            "Epoch 29/100\n",
            "38/38 [==============================] - 6s 166ms/step - loss: 0.0031\n",
            "Epoch 30/100\n",
            "38/38 [==============================] - 5s 135ms/step - loss: 0.0033\n",
            "Epoch 31/100\n",
            "38/38 [==============================] - 6s 168ms/step - loss: 0.0030\n",
            "Epoch 32/100\n",
            "38/38 [==============================] - 5s 137ms/step - loss: 0.0032\n",
            "Epoch 33/100\n",
            "38/38 [==============================] - 6s 171ms/step - loss: 0.0029\n",
            "Epoch 34/100\n",
            "38/38 [==============================] - 5s 133ms/step - loss: 0.0029\n",
            "Epoch 35/100\n",
            "38/38 [==============================] - 6s 146ms/step - loss: 0.0029\n",
            "Epoch 36/100\n",
            "38/38 [==============================] - 6s 157ms/step - loss: 0.0028\n",
            "Epoch 37/100\n",
            "38/38 [==============================] - 5s 139ms/step - loss: 0.0029\n",
            "Epoch 38/100\n",
            "38/38 [==============================] - 6s 170ms/step - loss: 0.0029\n",
            "Epoch 39/100\n",
            "38/38 [==============================] - 5s 135ms/step - loss: 0.0030\n",
            "Epoch 40/100\n",
            "38/38 [==============================] - 6s 169ms/step - loss: 0.0025\n",
            "Epoch 41/100\n",
            "38/38 [==============================] - 5s 133ms/step - loss: 0.0037\n",
            "Epoch 42/100\n",
            "38/38 [==============================] - 6s 169ms/step - loss: 0.0029\n",
            "Epoch 43/100\n",
            "38/38 [==============================] - 5s 130ms/step - loss: 0.0027\n",
            "Epoch 44/100\n",
            "38/38 [==============================] - 5s 137ms/step - loss: 0.0027\n",
            "Epoch 45/100\n",
            "38/38 [==============================] - 7s 171ms/step - loss: 0.0025\n",
            "Epoch 46/100\n",
            "38/38 [==============================] - 5s 140ms/step - loss: 0.0028\n",
            "Epoch 47/100\n",
            "38/38 [==============================] - 6s 166ms/step - loss: 0.0026\n",
            "Epoch 48/100\n",
            "38/38 [==============================] - 5s 132ms/step - loss: 0.0026\n",
            "Epoch 49/100\n",
            "38/38 [==============================] - 6s 168ms/step - loss: 0.0026\n",
            "Epoch 50/100\n",
            "38/38 [==============================] - 5s 132ms/step - loss: 0.0026\n",
            "Epoch 51/100\n",
            "38/38 [==============================] - 6s 150ms/step - loss: 0.0026\n",
            "Epoch 52/100\n",
            "38/38 [==============================] - 6s 151ms/step - loss: 0.0024\n",
            "Epoch 53/100\n",
            "38/38 [==============================] - 5s 138ms/step - loss: 0.0024\n",
            "Epoch 54/100\n",
            "38/38 [==============================] - 7s 170ms/step - loss: 0.0023\n",
            "Epoch 55/100\n",
            "38/38 [==============================] - 5s 140ms/step - loss: 0.0022\n",
            "Epoch 56/100\n",
            "38/38 [==============================] - 6s 170ms/step - loss: 0.0024\n",
            "Epoch 57/100\n",
            "38/38 [==============================] - 5s 136ms/step - loss: 0.0022\n",
            "Epoch 58/100\n",
            "38/38 [==============================] - 6s 168ms/step - loss: 0.0022\n",
            "Epoch 59/100\n",
            "38/38 [==============================] - 5s 137ms/step - loss: 0.0023\n",
            "Epoch 60/100\n",
            "38/38 [==============================] - 6s 159ms/step - loss: 0.0024\n",
            "Epoch 61/100\n",
            "38/38 [==============================] - 6s 145ms/step - loss: 0.0022\n",
            "Epoch 62/100\n",
            "38/38 [==============================] - 5s 144ms/step - loss: 0.0022\n",
            "Epoch 63/100\n",
            "38/38 [==============================] - 6s 168ms/step - loss: 0.0024\n",
            "Epoch 64/100\n",
            "38/38 [==============================] - 5s 141ms/step - loss: 0.0020\n",
            "Epoch 65/100\n",
            "38/38 [==============================] - 6s 170ms/step - loss: 0.0020\n",
            "Epoch 66/100\n",
            "38/38 [==============================] - 5s 144ms/step - loss: 0.0021\n",
            "Epoch 67/100\n",
            "38/38 [==============================] - 6s 167ms/step - loss: 0.0021\n",
            "Epoch 68/100\n",
            "38/38 [==============================] - 5s 133ms/step - loss: 0.0025\n",
            "Epoch 69/100\n",
            "38/38 [==============================] - 7s 172ms/step - loss: 0.0020\n",
            "Epoch 70/100\n",
            "38/38 [==============================] - 5s 140ms/step - loss: 0.0023\n",
            "Epoch 71/100\n",
            "38/38 [==============================] - 6s 150ms/step - loss: 0.0021\n",
            "Epoch 72/100\n",
            "38/38 [==============================] - 6s 156ms/step - loss: 0.0021\n",
            "Epoch 73/100\n",
            "38/38 [==============================] - 5s 143ms/step - loss: 0.0021\n",
            "Epoch 74/100\n",
            "38/38 [==============================] - 6s 172ms/step - loss: 0.0020\n",
            "Epoch 75/100\n",
            "38/38 [==============================] - 5s 142ms/step - loss: 0.0019\n",
            "Epoch 76/100\n",
            "38/38 [==============================] - 7s 173ms/step - loss: 0.0018\n",
            "Epoch 77/100\n",
            "38/38 [==============================] - 5s 137ms/step - loss: 0.0020\n",
            "Epoch 78/100\n",
            "38/38 [==============================] - 6s 169ms/step - loss: 0.0019\n",
            "Epoch 79/100\n",
            "38/38 [==============================] - 5s 141ms/step - loss: 0.0017\n",
            "Epoch 80/100\n",
            "38/38 [==============================] - 6s 171ms/step - loss: 0.0018\n",
            "Epoch 81/100\n",
            "38/38 [==============================] - 5s 138ms/step - loss: 0.0018\n",
            "Epoch 82/100\n",
            "38/38 [==============================] - 5s 138ms/step - loss: 0.0019\n",
            "Epoch 83/100\n",
            "38/38 [==============================] - 6s 159ms/step - loss: 0.0018\n",
            "Epoch 84/100\n",
            "38/38 [==============================] - 5s 144ms/step - loss: 0.0017\n",
            "Epoch 85/100\n",
            "38/38 [==============================] - 6s 172ms/step - loss: 0.0018\n",
            "Epoch 86/100\n",
            "38/38 [==============================] - 5s 135ms/step - loss: 0.0019\n",
            "Epoch 87/100\n",
            "38/38 [==============================] - 6s 171ms/step - loss: 0.0016\n",
            "Epoch 88/100\n",
            "38/38 [==============================] - 5s 134ms/step - loss: 0.0016\n",
            "Epoch 89/100\n",
            "38/38 [==============================] - 6s 166ms/step - loss: 0.0015\n",
            "Epoch 90/100\n",
            "38/38 [==============================] - 5s 135ms/step - loss: 0.0020\n",
            "Epoch 91/100\n",
            "38/38 [==============================] - 6s 148ms/step - loss: 0.0015\n",
            "Epoch 92/100\n",
            "38/38 [==============================] - 6s 160ms/step - loss: 0.0016\n",
            "Epoch 93/100\n",
            "38/38 [==============================] - 5s 135ms/step - loss: 0.0016\n",
            "Epoch 94/100\n",
            "38/38 [==============================] - 6s 168ms/step - loss: 0.0016\n",
            "Epoch 95/100\n",
            "38/38 [==============================] - 5s 134ms/step - loss: 0.0016\n",
            "Epoch 96/100\n",
            "38/38 [==============================] - 6s 167ms/step - loss: 0.0015\n",
            "Epoch 97/100\n",
            "38/38 [==============================] - 5s 140ms/step - loss: 0.0014\n",
            "Epoch 98/100\n",
            "38/38 [==============================] - 6s 168ms/step - loss: 0.0015\n",
            "Epoch 99/100\n",
            "38/38 [==============================] - 5s 139ms/step - loss: 0.0019\n",
            "Epoch 100/100\n",
            "38/38 [==============================] - 6s 153ms/step - loss: 0.0017\n"
          ]
        },
        {
          "output_type": "execute_result",
          "data": {
            "text/plain": [
              "<keras.callbacks.History at 0x7ff40d1aeaf0>"
            ]
          },
          "metadata": {},
          "execution_count": 16
        }
      ],
      "source": [
        "regressor.fit(X_train, y_train,epochs = 100, batch_size = 32)"
      ]
    },
    {
      "cell_type": "markdown",
      "metadata": {
        "id": "4hRau_lIkrE8"
      },
      "source": [
        "## Part 3 - Making the predictions and visualising the results"
      ]
    },
    {
      "cell_type": "markdown",
      "metadata": {
        "id": "SgJO6qEDksxD"
      },
      "source": [
        "### Getting the real stock price of 2017"
      ]
    },
    {
      "cell_type": "code",
      "execution_count": null,
      "metadata": {
        "id": "FmBT2zqukxTz"
      },
      "outputs": [],
      "source": [
        "dataset_test = pd.read_csv('Google_Stock_Price_Test.csv')\n",
        "real_stock_price = dataset_test.iloc[:,1:2].values"
      ]
    },
    {
      "cell_type": "markdown",
      "metadata": {
        "id": "GrvrLblxkz42"
      },
      "source": [
        "### Getting the predicted stock price of 2017"
      ]
    },
    {
      "cell_type": "code",
      "execution_count": null,
      "metadata": {
        "colab": {
          "base_uri": "https://localhost:8080/"
        },
        "id": "zmEzDspiGk_W",
        "outputId": "2706fc33-bccc-47cc-dbf7-8c8e1f3be59e"
      },
      "outputs": [
        {
          "output_type": "execute_result",
          "data": {
            "text/plain": [
              "0     325.25\n",
              "1     331.27\n",
              "2     329.83\n",
              "3     328.34\n",
              "4     322.04\n",
              "       ...  \n",
              "15    829.62\n",
              "16    837.81\n",
              "17    834.71\n",
              "18    814.66\n",
              "19    796.86\n",
              "Name: Open, Length: 1278, dtype: float64"
            ]
          },
          "metadata": {},
          "execution_count": 18
        }
      ],
      "source": [
        "dataset_total = pd.concat((dataset_train['Open'],dataset_test['Open']), axis=0)\n",
        "inputs = dataset_total[len(dataset_total)-len(dataset_test)-60:].values\n",
        "dataset_total"
      ]
    },
    {
      "cell_type": "code",
      "execution_count": null,
      "metadata": {
        "colab": {
          "base_uri": "https://localhost:8080/"
        },
        "id": "emikTvUpk3Ck",
        "outputId": "768b3988-f223-4250-f40b-40f7187bdbbb"
      },
      "outputs": [
        {
          "output_type": "stream",
          "name": "stdout",
          "text": [
            "1/1 [==============================] - 2s 2s/step\n"
          ]
        }
      ],
      "source": [
        "dataset_total = pd.concat((dataset_train['Open'],dataset_test['Open']), axis=0)\n",
        "inputs = dataset_total[len(dataset_total)-len(dataset_test)-60:].values\n",
        "inputs = inputs.reshape(-1,1)\n",
        "inputs = sc.transform(inputs)\n",
        "X_test =[]\n",
        "for i in range(60,80):\n",
        "  X_test.append(inputs[i-60:i,0])\n",
        "X_test = np.array(X_test)\n",
        "X_test = np.reshape(X_test,(X_test.shape[0],X_test.shape[1],1))\n",
        "predicted_stock_price = regressor.predict(X_test)\n",
        "predicted_stock_price = sc.inverse_transform(predicted_stock_price)"
      ]
    },
    {
      "cell_type": "code",
      "execution_count": null,
      "metadata": {
        "colab": {
          "base_uri": "https://localhost:8080/"
        },
        "id": "MgYtvUGVGEFr",
        "outputId": "de54372c-62e7-4a38-ecc2-f7bf24e161b3"
      },
      "outputs": [
        {
          "output_type": "execute_result",
          "data": {
            "text/plain": [
              "0     325.25\n",
              "1     331.27\n",
              "2     329.83\n",
              "3     328.34\n",
              "4     322.04\n",
              "       ...  \n",
              "15    829.62\n",
              "16    837.81\n",
              "17    834.71\n",
              "18    814.66\n",
              "19    796.86\n",
              "Name: Open, Length: 1278, dtype: float64"
            ]
          },
          "metadata": {},
          "execution_count": 20
        }
      ],
      "source": [
        "dataset_total"
      ]
    },
    {
      "cell_type": "code",
      "execution_count": null,
      "metadata": {
        "colab": {
          "base_uri": "https://localhost:8080/"
        },
        "id": "DmE_HeufFkOl",
        "outputId": "3abd2428-95f9-45ba-9412-7bdb8d4e369f"
      },
      "outputs": [
        {
          "output_type": "execute_result",
          "data": {
            "text/plain": [
              "(1198, 60, 1)"
            ]
          },
          "metadata": {},
          "execution_count": 21
        }
      ],
      "source": [
        "X_train.shape"
      ]
    },
    {
      "cell_type": "code",
      "execution_count": null,
      "metadata": {
        "colab": {
          "base_uri": "https://localhost:8080/"
        },
        "id": "75boVjT2FoiD",
        "outputId": "d6d5bef7-2871-4a9d-fc93-21539ab3ab72"
      },
      "outputs": [
        {
          "output_type": "execute_result",
          "data": {
            "text/plain": [
              "(20, 60, 1)"
            ]
          },
          "metadata": {},
          "execution_count": 22
        }
      ],
      "source": [
        "X_test.shape"
      ]
    },
    {
      "cell_type": "markdown",
      "metadata": {
        "id": "iFTNs3YHk6FQ"
      },
      "source": [
        "### Visualising the results"
      ]
    },
    {
      "cell_type": "code",
      "execution_count": null,
      "metadata": {
        "colab": {
          "base_uri": "https://localhost:8080/",
          "height": 295
        },
        "id": "8OUI8U49k9tH",
        "outputId": "c7eee9db-ba89-4318-84bc-688731f03eb4"
      },
      "outputs": [
        {
          "output_type": "display_data",
          "data": {
            "text/plain": [
              "<Figure size 432x288 with 1 Axes>"
            ],
            "image/png": "[encoded data removed]"
          },
          "metadata": {
            "needs_background": "light"
          }
        }
      ],
      "source": [
        "plt.plot(real_stock_price,color='red',label = 'Real Google Stock Price')\n",
        "plt.plot(predicted_stock_price, color='blue', label ='Predicted Google Stock Price')\n",
        "plt.title('Google Stock Price Prediction')\n",
        "plt.xlabel('Time')\n",
        "plt.ylabel('Google Stock Price')\n",
        "plt.legend()\n",
        "plt.show()"
      ]
    }
  ],
  "metadata": {
    "colab": {
      "provenance": [],
      "include_colab_link": true
    },
    "kernelspec": {
      "display_name": "Python 3",
      "name": "python3"
    }
  },
  "nbformat": 4,
  "nbformat_minor": 0
}